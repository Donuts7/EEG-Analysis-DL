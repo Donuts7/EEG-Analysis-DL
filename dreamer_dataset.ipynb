{
 "cells": [
  {
   "cell_type": "code",
   "execution_count": 1,
   "metadata": {},
   "outputs": [],
   "source": [
    "import scipy.io as sio\n",
    "import pandas as pd\n",
    "import numpy as np\n",
    "from datetime import datetime, date, time\n",
    "mdata = sio.loadmat(\"DREAMER.mat\")\n",
    "mdata = mdata['DREAMER']\n",
    "mdtype = mdata.dtype \n"
   ]
  },
  {
   "cell_type": "code",
   "execution_count": 2,
   "metadata": {},
   "outputs": [],
   "source": [
    "def read_data(dataset):\n",
    "    matrix_data = np.zeros((18, 128*60*14 + 3))\n",
    "    count_row=0\n",
    "    for elem in dataset:\n",
    "        i=0\n",
    "        row = []\n",
    "        elem_T = elem[0].T\n",
    "        for i in range(0,14):\n",
    "            counter = 1\n",
    "            for num in elem_T[i]:\n",
    "                i=i+1\n",
    "                if counter <= 128*60:\n",
    "                    row.append(num)\n",
    "                    counter = counter + 1\n",
    "        matrix_data[count_row][:-3] = row\n",
    "        count_row = count_row + 1\n",
    "    return matrix_data"
   ]
  },
  {
   "cell_type": "code",
   "execution_count": 3,
   "metadata": {},
   "outputs": [],
   "source": [
    "\n",
    "ndata = {n: mdata[n][0, 0] for n in mdtype.names}\n",
    "ndata = ndata['Data']\n",
    "ndata= ndata.reshape((23,))\n",
    "matrix_data = np.zeros((23*18, 128*60*14 + 3))\n",
    "i=0\n",
    "for data in ndata:\n",
    "    row = []\n",
    "    EEG = data['EEG'][0][0][0][0]\n",
    "    baseline = EEG['baseline']\n",
    "    stimuli = EEG['stimuli'] \n",
    "    #Dentro matrix data una riga è un singolo esperimento con tutti e 14 \n",
    "    #gli elettrodi concatenati (baseline già sottratta). Per ogni paziente abbiamo 18 righer\n",
    "    matrix_data[i:i+18] = read_data(stimuli) - read_data(baseline)\n",
    "    i=i+18\n",
    "    "
   ]
  },
  {
   "cell_type": "code",
   "execution_count": 4,
   "metadata": {},
   "outputs": [],
   "source": [
    "valence_all=[]\n",
    "arousal_all = []\n",
    "dominance_all = []\n",
    "for data in ndata:\n",
    "    valence = data['ScoreValence'][0][0]\n",
    "    arousal = data['ScoreArousal'][0][0]\n",
    "    dominance = data['ScoreDominance'][0][0]\n",
    "    for elem in valence:\n",
    "        valence_all.append(elem[0])\n",
    "    for elem in arousal:\n",
    "        arousal_all.append(elem[0])\n",
    "    for elem in dominance:\n",
    "        dominance_all.append(elem[0])\n",
    "    \n"
   ]
  },
  {
   "cell_type": "code",
   "execution_count": 5,
   "metadata": {},
   "outputs": [],
   "source": [
    "i=0\n",
    "while i<len(valence_all):\n",
    "    matrix_data[i][128*60*14] = valence_all[i]\n",
    "    matrix_data[i][128*60*14 + 1] = arousal_all[i]\n",
    "    matrix_data[i][128*60*14 + 2] = dominance_all[i]\n",
    "    i = i + 1"
   ]
  },
  {
   "cell_type": "code",
   "execution_count": 6,
   "metadata": {},
   "outputs": [
    {
     "name": "stdout",
     "output_type": "stream",
     "text": [
      "[-63.07692308 -39.48717949 -68.71794872 ...   4.           2.\n",
      "   3.        ]\n"
     ]
    }
   ],
   "source": [
    "print(matrix_data[50])"
   ]
  },
  {
   "cell_type": "code",
   "execution_count": 9,
   "metadata": {},
   "outputs": [],
   "source": [
    "df = pd.DataFrame(matrix_data).T\n",
    "#df.to_excel(excel_writer = \"DREAMR.xlsx\")\n",
    "df.to_csv(\"DREAMR.csv\")"
   ]
  }
 ],
 "metadata": {
  "kernelspec": {
   "display_name": "Python 3.9.7 ('base')",
   "language": "python",
   "name": "python3"
  },
  "language_info": {
   "codemirror_mode": {
    "name": "ipython",
    "version": 3
   },
   "file_extension": ".py",
   "mimetype": "text/x-python",
   "name": "python",
   "nbconvert_exporter": "python",
   "pygments_lexer": "ipython3",
   "version": "3.9.7"
  },
  "orig_nbformat": 4,
  "vscode": {
   "interpreter": {
    "hash": "4823b1d7281392720efc5bd33273da7d04981f587d70caa3a63cad9e2cee1897"
   }
  }
 },
 "nbformat": 4,
 "nbformat_minor": 2
}
